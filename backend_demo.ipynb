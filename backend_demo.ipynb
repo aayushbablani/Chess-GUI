{
 "cells": [
  {
   "cell_type": "markdown",
   "source": [
    "# Backend Demo"
   ],
   "metadata": {
    "collapsed": false
   },
   "id": "53713c8e7a695d1c"
  },
  {
   "cell_type": "code",
   "execution_count": 1,
   "outputs": [
    {
     "name": "stdout",
     "output_type": "stream",
     "text": [
      "Creating table users: already exists.\n",
      "Creating table games: already exists.\n",
      "Creating table moves: already exists.\n"
     ]
    }
   ],
   "source": [
    "from requests import get, post\n",
    "from Database import Database\n",
    "\n",
    "if 'db' not in locals():\n",
    "    db = Database(\n",
    "        {\n",
    "            'user':              \"root\",\n",
    "            'password':          \"real_good_password\",\n",
    "            'database':          \"backend\",\n",
    "            'host':              \"localhost\",\n",
    "            'port':              \"3306\",\n",
    "            'raise_on_warnings': True,\n",
    "        }\n",
    "    )\n",
    "\n",
    "server_url = \"http://127.0.0.1:105\"\n",
    "username = 'user2@domain.tld'"
   ],
   "metadata": {
    "collapsed": false,
    "ExecuteTime": {
     "end_time": "2023-12-11T20:45:11.853410Z",
     "start_time": "2023-12-11T20:45:11.570168Z"
    }
   },
   "id": "initial_id"
  },
  {
   "cell_type": "markdown",
   "source": [
    "## Starting a game through the API"
   ],
   "metadata": {
    "collapsed": false
   },
   "id": "d8bbfcfdc9f86e3a"
  },
  {
   "cell_type": "code",
   "execution_count": 2,
   "outputs": [
    {
     "name": "stdout",
     "output_type": "stream",
     "text": [
      "200\n"
     ]
    },
    {
     "data": {
      "text/plain": "'Ready to start'"
     },
     "execution_count": 2,
     "metadata": {},
     "output_type": "execute_result"
    }
   ],
   "source": [
    "def start_with_white():\n",
    "    response = post(\n",
    "        server_url + \"/start-with-white\",\n",
    "        headers={\n",
    "            'Content-Type': 'application/json',\n",
    "        },\n",
    "        json={\n",
    "            \"username\": username,\n",
    "        },\n",
    "    )\n",
    "    print(response.status_code)\n",
    "    return response.text\n",
    "\n",
    "start_with_white()"
   ],
   "metadata": {
    "collapsed": false,
    "ExecuteTime": {
     "end_time": "2023-12-11T20:45:12.187852Z",
     "start_time": "2023-12-11T20:45:11.850292Z"
    }
   },
   "id": "9bff4a8a57669774"
  },
  {
   "cell_type": "code",
   "execution_count": 3,
   "outputs": [
    {
     "name": "stdout",
     "output_type": "stream",
     "text": [
      "200\n",
      "+---+---+---+---+---+---+---+---+\n",
      "| r | n | b | q | k | b | n | r | 8\n",
      "+---+---+---+---+---+---+---+---+\n",
      "| p | p | p | p | p | p | p | p | 7\n",
      "+---+---+---+---+---+---+---+---+\n",
      "|   |   |   |   |   |   |   |   | 6\n",
      "+---+---+---+---+---+---+---+---+\n",
      "|   |   |   |   |   |   |   |   | 5\n",
      "+---+---+---+---+---+---+---+---+\n",
      "|   |   |   |   |   |   |   |   | 4\n",
      "+---+---+---+---+---+---+---+---+\n",
      "|   |   |   |   |   |   |   |   | 3\n",
      "+---+---+---+---+---+---+---+---+\n",
      "| P | P | P | P | P | P | P | P | 2\n",
      "+---+---+---+---+---+---+---+---+\n",
      "| R | N | B | Q | K | B | N | R | 1\n",
      "+---+---+---+---+---+---+---+---+\n",
      "  a   b   c   d   e   f   g   h\n"
     ]
    }
   ],
   "source": [
    "def see_board():\n",
    "    response = get(\n",
    "        server_url + \"/see-board\",\n",
    "    )\n",
    "    print(response.status_code)\n",
    "    print(response.text)\n",
    "\n",
    "see_board()"
   ],
   "metadata": {
    "collapsed": false,
    "ExecuteTime": {
     "end_time": "2023-12-11T20:45:12.227368Z",
     "start_time": "2023-12-11T20:45:12.183177Z"
    }
   },
   "id": "682c66fa71ccccf8"
  },
  {
   "cell_type": "markdown",
   "source": [
    "## Playing a move through the API"
   ],
   "metadata": {
    "collapsed": false
   },
   "id": "217ad145101c993f"
  },
  {
   "cell_type": "code",
   "execution_count": 4,
   "outputs": [
    {
     "name": "stdout",
     "output_type": "stream",
     "text": [
      "200\n",
      "{\"new_engine_x\":0,\"new_engine_y\":5,\"old_engine_x\":0,\"old_engine_y\":6}\n"
     ]
    }
   ],
   "source": [
    "def play(move):\n",
    "    currX = ord(move[0]) - 97  # convert character to unicode, then to index starting at 0.\n",
    "    currY = int(move[1]) - 1  # backend expects moves indexed from 0.\n",
    "    newX = ord(move[2]) - 97\n",
    "    newY = int(move[3]) - 1 \n",
    "    # print(currX, currY, newX, newY, sep=\"\")\n",
    "    \n",
    "    response = post(\n",
    "        server_url + \"/play\",\n",
    "        headers={\n",
    "            'Content-Type': 'application/json',\n",
    "        },\n",
    "        json={\n",
    "            \"username\": username,\n",
    "            \"currX\": currX,\n",
    "            \"currY\": currY,\n",
    "            \"newX\": newX,\n",
    "            \"newY\": newY,\n",
    "        },\n",
    "    )\n",
    "    print(response.status_code)\n",
    "    print(response.text)\n",
    "\n",
    "play(\"a2a4\")"
   ],
   "metadata": {
    "collapsed": false,
    "ExecuteTime": {
     "end_time": "2023-12-11T20:45:24.120436Z",
     "start_time": "2023-12-11T20:45:12.196281Z"
    }
   },
   "id": "e345f55f83b87cf9"
  },
  {
   "cell_type": "code",
   "execution_count": 5,
   "outputs": [
    {
     "name": "stdout",
     "output_type": "stream",
     "text": [
      "200\n",
      "+---+---+---+---+---+---+---+---+\n",
      "| r | n | b | q | k | b | n | r | 8\n",
      "+---+---+---+---+---+---+---+---+\n",
      "|   | p | p | p | p | p | p | p | 7\n",
      "+---+---+---+---+---+---+---+---+\n",
      "| p |   |   |   |   |   |   |   | 6\n",
      "+---+---+---+---+---+---+---+---+\n",
      "|   |   |   |   |   |   |   |   | 5\n",
      "+---+---+---+---+---+---+---+---+\n",
      "| P |   |   |   |   |   |   |   | 4\n",
      "+---+---+---+---+---+---+---+---+\n",
      "|   |   |   |   |   |   |   |   | 3\n",
      "+---+---+---+---+---+---+---+---+\n",
      "|   | P | P | P | P | P | P | P | 2\n",
      "+---+---+---+---+---+---+---+---+\n",
      "| R | N | B | Q | K | B | N | R | 1\n",
      "+---+---+---+---+---+---+---+---+\n",
      "  a   b   c   d   e   f   g   h\n"
     ]
    }
   ],
   "source": [
    "see_board()"
   ],
   "metadata": {
    "collapsed": false,
    "ExecuteTime": {
     "end_time": "2023-12-11T20:45:24.149149Z",
     "start_time": "2023-12-11T20:45:24.122510Z"
    }
   },
   "id": "a81b375aa80020b6"
  },
  {
   "cell_type": "code",
   "execution_count": 6,
   "outputs": [
    {
     "name": "stdout",
     "output_type": "stream",
     "text": [
      "400\n",
      "Move was illegal and was not made\n"
     ]
    }
   ],
   "source": [
    "play(\"a2a4\")"
   ],
   "metadata": {
    "collapsed": false,
    "ExecuteTime": {
     "end_time": "2023-12-11T20:45:24.172113Z",
     "start_time": "2023-12-11T20:45:24.132599Z"
    }
   },
   "id": "7e343d5c5dcea312"
  },
  {
   "cell_type": "code",
   "execution_count": 7,
   "outputs": [
    {
     "name": "stdout",
     "output_type": "stream",
     "text": [
      "200\n",
      "{\"new_engine_x\":5,\"new_engine_y\":5,\"old_engine_x\":6,\"old_engine_y\":7}\n",
      "\n",
      "200\n",
      "+---+---+---+---+---+---+---+---+\n",
      "| r | n | b | q | k | b |   | r | 8\n",
      "+---+---+---+---+---+---+---+---+\n",
      "|   | p | p | p | p | p | p | p | 7\n",
      "+---+---+---+---+---+---+---+---+\n",
      "| p |   |   |   |   | n |   |   | 6\n",
      "+---+---+---+---+---+---+---+---+\n",
      "|   |   |   |   |   |   |   |   | 5\n",
      "+---+---+---+---+---+---+---+---+\n",
      "| P |   |   | P |   |   |   |   | 4\n",
      "+---+---+---+---+---+---+---+---+\n",
      "|   |   |   |   |   |   |   |   | 3\n",
      "+---+---+---+---+---+---+---+---+\n",
      "|   | P | P |   | P | P | P | P | 2\n",
      "+---+---+---+---+---+---+---+---+\n",
      "| R | N | B | Q | K | B | N | R | 1\n",
      "+---+---+---+---+---+---+---+---+\n",
      "  a   b   c   d   e   f   g   h\n"
     ]
    }
   ],
   "source": [
    "play(\"d2d4\")\n",
    "see_board()"
   ],
   "metadata": {
    "collapsed": false,
    "ExecuteTime": {
     "end_time": "2023-12-11T20:45:47.098587Z",
     "start_time": "2023-12-11T20:45:24.143415Z"
    }
   },
   "id": "14d73b5dd43b1553"
  },
  {
   "cell_type": "markdown",
   "source": [
    "## Getting moves from the `moves` Database tablet throught the API"
   ],
   "metadata": {
    "collapsed": false
   },
   "id": "ced014075fe5d829"
  },
  {
   "cell_type": "code",
   "execution_count": 8,
   "outputs": [
    {
     "name": "stdout",
     "output_type": "stream",
     "text": [
      "200\n",
      "[\"a2a4\",\"a7a6\",\"d2d4\",\"g8f6\"]\n"
     ]
    }
   ],
   "source": [
    "def get_moves():\n",
    "    response = get(\n",
    "        server_url + \"/get-moves\",\n",
    "        headers={\n",
    "            'Content-Type': 'application/json',\n",
    "        },\n",
    "        json={\n",
    "            \"username\": username,\n",
    "        },\n",
    "    )\n",
    "    print(response.status_code)\n",
    "    print(response.text)\n",
    "\n",
    "get_moves()"
   ],
   "metadata": {
    "collapsed": false,
    "ExecuteTime": {
     "end_time": "2023-12-11T20:45:47.130656Z",
     "start_time": "2023-12-11T20:45:47.085493Z"
    }
   },
   "id": "9da9ce8f5a725c33"
  },
  {
   "cell_type": "markdown",
   "source": [
    "## Last Row of `users` and `games` tables from the Database"
   ],
   "metadata": {
    "collapsed": false
   },
   "id": "3773ba71c91c2308"
  },
  {
   "cell_type": "markdown",
   "source": [
    "### User => (pk, email)"
   ],
   "metadata": {
    "collapsed": false
   },
   "id": "9283c3fb0e62ff67"
  },
  {
   "cell_type": "code",
   "execution_count": 9,
   "outputs": [
    {
     "name": "stdout",
     "output_type": "stream",
     "text": [
      "[(2, 'user2@domain.tld')]\n"
     ]
    }
   ],
   "source": [
    "with db.get_cxn() as cxn:\n",
    "    with cxn.cursor() as cursor:\n",
    "        cursor.execute(\n",
    "            \"SELECT * FROM users\"\n",
    "        )\n",
    "        result_set = cursor.fetchall()\n",
    "        print(result_set[-1:])\n",
    "        "
   ],
   "metadata": {
    "collapsed": false,
    "ExecuteTime": {
     "end_time": "2023-12-11T20:45:47.142041Z",
     "start_time": "2023-12-11T20:45:47.115156Z"
    }
   },
   "id": "f3677dce3e782559"
  },
  {
   "cell_type": "markdown",
   "source": [
    "### Game => (pk, user_foreign_key, game_time)"
   ],
   "metadata": {
    "collapsed": false
   },
   "id": "ef535eac7a28bed1"
  },
  {
   "cell_type": "code",
   "execution_count": 10,
   "outputs": [
    {
     "name": "stdout",
     "output_type": "stream",
     "text": [
      "[(22, 2, datetime.datetime(2023, 12, 11, 20, 35, 38))]\n"
     ]
    }
   ],
   "source": [
    "with db.get_cxn() as cxn:\n",
    "    with cxn.cursor() as cursor:\n",
    "        cursor.execute(\n",
    "            \"SELECT * FROM games\"\n",
    "        )\n",
    "        result_set = cursor.fetchall()\n",
    "        print(result_set[-1:])"
   ],
   "metadata": {
    "collapsed": false,
    "ExecuteTime": {
     "end_time": "2023-12-11T20:45:47.162887Z",
     "start_time": "2023-12-11T20:45:47.139757Z"
    }
   },
   "id": "f5b161fc43dbb973"
  },
  {
   "cell_type": "markdown",
   "source": [
    "<h2> 4 Most Recent Games"
   ],
   "metadata": {
    "collapsed": false
   },
   "id": "ecf67eca25fd7d16"
  },
  {
   "cell_type": "markdown",
   "source": [
    "### Move => (pk, game_foreign_key, move_idx, move)"
   ],
   "metadata": {
    "collapsed": false
   },
   "id": "4a29dff190204670"
  },
  {
   "cell_type": "code",
   "execution_count": 11,
   "outputs": [
    {
     "name": "stdout",
     "output_type": "stream",
     "text": [
      "[(77, 22, 0, 'a2a4'), (78, 22, 1, 'a7a6'), (79, 22, 2, 'd2d4'), (80, 22, 3, 'g8f6')]\n"
     ]
    }
   ],
   "source": [
    "with db.get_cxn() as cxn:\n",
    "    with cxn.cursor() as cursor:\n",
    "        cursor.execute(\n",
    "            \"SELECT * FROM moves\"\n",
    "        )\n",
    "        result_set = cursor.fetchall()\n",
    "        print(result_set[-4:])"
   ],
   "metadata": {
    "collapsed": false,
    "ExecuteTime": {
     "end_time": "2023-12-11T20:45:47.192014Z",
     "start_time": "2023-12-11T20:45:47.158141Z"
    }
   },
   "id": "c1e5a55b0aa29ddc"
  },
  {
   "cell_type": "code",
   "execution_count": 12,
   "outputs": [
    {
     "name": "stdout",
     "output_type": "stream",
     "text": [
      "200\n",
      "[\"a2a4\",\"a7a6\",\"d2d4\",\"g8f6\"]\n"
     ]
    }
   ],
   "source": [
    "get_moves()"
   ],
   "metadata": {
    "collapsed": false,
    "ExecuteTime": {
     "end_time": "2023-12-11T20:45:47.212187Z",
     "start_time": "2023-12-11T20:45:47.163563Z"
    }
   },
   "id": "54c5e4252988aba3"
  },
  {
   "cell_type": "code",
   "execution_count": 12,
   "outputs": [],
   "source": [],
   "metadata": {
    "collapsed": false,
    "ExecuteTime": {
     "end_time": "2023-12-11T20:45:47.212494Z",
     "start_time": "2023-12-11T20:45:47.207116Z"
    }
   },
   "id": "a01f4af9054d9d5b"
  }
 ],
 "metadata": {
  "kernelspec": {
   "display_name": "Python 3",
   "language": "python",
   "name": "python3"
  },
  "language_info": {
   "codemirror_mode": {
    "name": "ipython",
    "version": 2
   },
   "file_extension": ".py",
   "mimetype": "text/x-python",
   "name": "python",
   "nbconvert_exporter": "python",
   "pygments_lexer": "ipython2",
   "version": "2.7.6"
  }
 },
 "nbformat": 4,
 "nbformat_minor": 5
}
